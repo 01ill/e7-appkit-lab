{
 "cells": [
  {
   "cell_type": "code",
   "execution_count": 1,
   "id": "91cd0c29",
   "metadata": {},
   "outputs": [],
   "source": [
    "# !conda install -c conda-forge scienceplots -y"
   ]
  },
  {
   "cell_type": "code",
   "execution_count": 2,
   "id": "9e4c9861",
   "metadata": {},
   "outputs": [],
   "source": [
    "import pandas as pd\n",
    "import matplotlib as mpl\n",
    "mpl.use(\"pgf\")\n",
    "\n",
    "import matplotlib.pyplot as plt\n",
    "from matplotlib.ticker import AutoMinorLocator, PercentFormatter"
   ]
  },
  {
   "cell_type": "code",
   "execution_count": 3,
   "id": "fec1a430",
   "metadata": {},
   "outputs": [],
   "source": [
    "# plt.style.use(['science', 'ieee'])\n",
    "mpl.rcParams.update({\n",
    "    \"pgf.texsystem\": 'pdflatex',\n",
    "    \"text.usetex\": True,\n",
    "    \"font.family\": \"serif\",\n",
    "    \"font.serif\": [],\n",
    "    \"pgf.rcfonts\": False,\n",
    "    \"pgf.preamble\": \"\\n\".join([\n",
    "      r'\\usepackage{amsmath}',\n",
    "      r\"\\usepackage[utf8x]{inputenc}\",\n",
    "      r\"\\usepackage[T1]{fontenc}\",\n",
    "      r\"\\usepackage{cmbright}\",\n",
    "    ]),\n",
    "})"
   ]
  },
  {
   "cell_type": "code",
   "execution_count": 4,
   "id": "9080677c",
   "metadata": {},
   "outputs": [],
   "source": [
    "color_map = {\n",
    "    \"ARM-CMSIS-DSP\": \"C0\",\n",
    "    \"CMSIS-DSP\": \"C0\",\n",
    "    \"TillJIT\": \"C1\",\n",
    "    \"tIlljIt\": \"C1\",\n",
    "    \"TillJIT-04.06.\": 'C2',\n",
    "    \"JIT\": \"C1\",\n",
    "    \"ReferenceCM\": \"C3\",\n",
    "    \"Peak\": \"C4\",\n",
    "    \"Intrinsics\": \"C5\"\n",
    "}"
   ]
  },
  {
   "cell_type": "code",
   "execution_count": 5,
   "id": "64cec71a",
   "metadata": {},
   "outputs": [],
   "source": [
    "def calculateSpeedup(data):\n",
    "    # Filter data for TillJIT and ARM-CMSIS-DSP\n",
    "    tilljit_data = data[data['Type'] == 'TillJIT-04.06.']\n",
    "    arm_data = data[data['Type'] == 'ARM-CMSIS-DSP']\n",
    "\n",
    "    # Merge datasets on common dimensions (M, K, N)\n",
    "    merged_data = pd.merge(tilljit_data, arm_data, on=['M', 'K', 'N'], suffixes=('_tilljit', '_arm'))\n",
    "\n",
    "    # Calculate speedup (TillJIT GFLOPS / ARM GFLOPS)\n",
    "    merged_data['Speedup'] = merged_data['GFLOPS_tilljit'] / merged_data['GFLOPS_arm']\n",
    "\n",
    "    # Calculate statistics\n",
    "    average_speedup = merged_data['Speedup'].mean()\n",
    "    median_speedup = merged_data['Speedup'].median()\n",
    "    maximum_speedup = merged_data['Speedup'].max()\n",
    "    minimum_speedup = merged_data['Speedup'].min()\n",
    "\n",
    "    print(f\"Speedup Statistics (TillJIT-04.06. over ARM-CMSIS-DSP):\")\n",
    "    print(f\"Average Speedup: {average_speedup:.2f}x\")\n",
    "    print(f\"Median Speedup: {median_speedup:.2f}x\")\n",
    "    print(f\"Maximum Speedup: {maximum_speedup:.2f}x\")\n",
    "    print(f\"Minimum Speedup: {minimum_speedup:.2f}x\")\n",
    "\n",
    "def plotFigure(csvPath, plotOver, peakPerf, xlabel, title, pgf_name, mark_intrinsics=False):\n",
    "    plt.clf()\n",
    "    fig, ax = plt.subplots()\n",
    "    data = pd.read_csv(csvPath, sep=\";\")\n",
    "\n",
    "    plt.figure(figsize=(10, 6))\n",
    "    for type_exec in data['Type'].unique():\n",
    "        subset = data[data['Type'] == type_exec]\n",
    "        if type_exec == \"Intrinsics\" and mark_intrinsics:\n",
    "            ax.plot(subset[plotOver], subset['GFLOPS'], label=type_exec, color=color_map.get(type_exec, 'black'), linestyle='-.', marker='^')\n",
    "        else:\n",
    "            ax.plot(subset[plotOver], subset['GFLOPS'], label=type_exec, color=color_map.get(type_exec, 'black'))\n",
    "\n",
    "\n",
    "    ax.axhline(y=peakPerf, color=color_map.get(type_exec, 'black'), linestyle='--', label='Peak')\n",
    "    ax.set_xticks([i for i in range(0, 241, 24)])\n",
    "    ax.xaxis.set_minor_locator(AutoMinorLocator(n=3)) # 0, 8, 16, 24 ...\n",
    "    ax.yaxis.set_minor_locator(AutoMinorLocator(n=2)) # 0, 0.1, 0.2 ...\n",
    "    ax.tick_params(axis='x', which='minor', length=2, direction='out')\n",
    "    ax.tick_params(axis='y', which='minor', length=2, direction='out')\n",
    "\n",
    "    ax2 = ax.twinx()\n",
    "    ax2.set_ylabel(\"GFLOPS (Peak Performance)\")\n",
    "    ax2.yaxis.set_major_formatter(PercentFormatter(xmax=peakPerf))\n",
    "    ymin, ymax = ax.get_ylim()\n",
    "    ax2.set_ylim(ymin, ymax)\n",
    "    ax2.plot([],[])\n",
    "    ax.set_xlabel(xlabel)\n",
    "    ax.set_ylabel('GFLOPS')\n",
    "    ax.legend(loc='right', bbox_to_anchor=(1, 0.35))\n",
    "    ax.grid(True)\n",
    "    ax.set_title(title)\n",
    "    plt.show()\n",
    "    fig.savefig(\"pgf_export/\" + pgf_name, format='pgf', backend='pgf')\n",
    "    return data, fig, ax"
   ]
  },
  {
   "cell_type": "code",
   "execution_count": 6,
   "id": "391d5f67",
   "metadata": {},
   "outputs": [
    {
     "name": "stderr",
     "output_type": "stream",
     "text": [
      "/var/folders/c0/3zmp_qkd1q96kl5cw3f5lyt80000gn/T/ipykernel_26320/3425580360.py:56: UserWarning: FigureCanvasPgf is non-interactive, and thus cannot be shown\n",
      "  plt.show()\n"
     ]
    },
    {
     "name": "stdout",
     "output_type": "stream",
     "text": [
      "Speedup Statistics (TillJIT-04.06. over ARM-CMSIS-DSP):\n",
      "Average Speedup: 1.64x\n",
      "Median Speedup: 1.63x\n",
      "Maximum Speedup: 1.94x\n",
      "Minimum Speedup: 1.63x\n"
     ]
    }
   ],
   "source": [
    "data, fig, ax = plotFigure('gemm_growing_k.csv', 'K', 1.6, 'K (M=N=24)', \"Increment K\", \"grow_k.pgf\")\n",
    "calculateSpeedup(data)"
   ]
  },
  {
   "cell_type": "code",
   "execution_count": 7,
   "id": "c920b620",
   "metadata": {},
   "outputs": [
    {
     "name": "stdout",
     "output_type": "stream",
     "text": [
      "Speedup Statistics (TillJIT-04.06. over ARM-CMSIS-DSP):\n",
      "Average Speedup: 1.64x\n",
      "Median Speedup: 1.63x\n",
      "Maximum Speedup: 1.94x\n",
      "Minimum Speedup: 1.63x\n"
     ]
    },
    {
     "name": "stderr",
     "output_type": "stream",
     "text": [
      "/var/folders/c0/3zmp_qkd1q96kl5cw3f5lyt80000gn/T/ipykernel_26320/3425580360.py:56: UserWarning: FigureCanvasPgf is non-interactive, and thus cannot be shown\n",
      "  plt.show()\n"
     ]
    }
   ],
   "source": [
    "data, fig, ax = plotFigure('gemm_growing_k_he.csv', 'K', 0.64, 'K (M=N=24)', \"Increment K HE Core\", \"grow_k_he.pgf\")\n",
    "calculateSpeedup(data)"
   ]
  },
  {
   "cell_type": "code",
   "execution_count": 8,
   "id": "717971b6",
   "metadata": {},
   "outputs": [
    {
     "name": "stderr",
     "output_type": "stream",
     "text": [
      "/var/folders/c0/3zmp_qkd1q96kl5cw3f5lyt80000gn/T/ipykernel_26320/3425580360.py:56: UserWarning: FigureCanvasPgf is non-interactive, and thus cannot be shown\n",
      "  plt.show()\n"
     ]
    },
    {
     "name": "stdout",
     "output_type": "stream",
     "text": [
      "Speedup Statistics (TillJIT-04.06. over ARM-CMSIS-DSP):\n",
      "Average Speedup: 1.55x\n",
      "Median Speedup: 1.55x\n",
      "Maximum Speedup: 1.85x\n",
      "Minimum Speedup: 1.39x\n"
     ]
    }
   ],
   "source": [
    "data, _, _ = plotFigure('gemm_growing_k_sram0.csv', 'K', 1.6, 'K (M=N=24)', \"Increment K SRAM0\", \"grow_k_sram0.pgf\")\n",
    "calculateSpeedup(data)"
   ]
  },
  {
   "cell_type": "code",
   "execution_count": 9,
   "id": "602439d5",
   "metadata": {},
   "outputs": [
    {
     "name": "stdout",
     "output_type": "stream",
     "text": [
      "Speedup Statistics (TillJIT-04.06. over ARM-CMSIS-DSP):\n",
      "Average Speedup: 1.63x\n",
      "Median Speedup: 1.62x\n",
      "Maximum Speedup: 2.34x\n",
      "Minimum Speedup: 1.24x\n"
     ]
    },
    {
     "name": "stderr",
     "output_type": "stream",
     "text": [
      "/var/folders/c0/3zmp_qkd1q96kl5cw3f5lyt80000gn/T/ipykernel_26320/3425580360.py:56: UserWarning: FigureCanvasPgf is non-interactive, and thus cannot be shown\n",
      "  plt.show()\n"
     ]
    }
   ],
   "source": [
    "data, _, _ = plotFigure('gemm_square_all.csv', 'M', 1.6, 'Size (M=N=K)', 'Square', 'square.pgf', True)\n",
    "calculateSpeedup(data)"
   ]
  },
  {
   "cell_type": "code",
   "execution_count": 10,
   "id": "fe525b92",
   "metadata": {},
   "outputs": [
    {
     "name": "stderr",
     "output_type": "stream",
     "text": [
      "/var/folders/c0/3zmp_qkd1q96kl5cw3f5lyt80000gn/T/ipykernel_26320/3425580360.py:56: UserWarning: FigureCanvasPgf is non-interactive, and thus cannot be shown\n",
      "  plt.show()\n"
     ]
    },
    {
     "name": "stdout",
     "output_type": "stream",
     "text": [
      "Speedup Statistics (TillJIT-04.06. over ARM-CMSIS-DSP):\n",
      "Average Speedup: 1.65x\n",
      "Median Speedup: 1.63x\n",
      "Maximum Speedup: 2.34x\n",
      "Minimum Speedup: 1.24x\n"
     ]
    }
   ],
   "source": [
    "data, _, _ = plotFigure('gemm_square_he.csv', 'M', 0.64, 'Size (M=N=K)', \"Square HE Core\", \"square_he.pgf\", True)\n",
    "calculateSpeedup(data)"
   ]
  },
  {
   "cell_type": "code",
   "execution_count": 11,
   "id": "070d1f63",
   "metadata": {},
   "outputs": [
    {
     "name": "stdout",
     "output_type": "stream",
     "text": [
      "Speedup Statistics (TillJIT-04.06. over ARM-CMSIS-DSP):\n",
      "Average Speedup: 1.22x\n",
      "Median Speedup: 1.11x\n",
      "Maximum Speedup: 2.33x\n",
      "Minimum Speedup: 0.95x\n"
     ]
    },
    {
     "name": "stderr",
     "output_type": "stream",
     "text": [
      "/var/folders/c0/3zmp_qkd1q96kl5cw3f5lyt80000gn/T/ipykernel_26320/3425580360.py:56: UserWarning: FigureCanvasPgf is non-interactive, and thus cannot be shown\n",
      "  plt.show()\n"
     ]
    }
   ],
   "source": [
    "data, _, _ = plotFigure('gemm_square_sram0.csv', 'M', 1.6, 'Size (M=N=K)', 'Square SRAM0', 'square_sram0.pgf', True)\n",
    "calculateSpeedup(data)"
   ]
  },
  {
   "cell_type": "code",
   "execution_count": 12,
   "id": "a86e9a7c",
   "metadata": {},
   "outputs": [
    {
     "name": "stderr",
     "output_type": "stream",
     "text": [
      "/var/folders/c0/3zmp_qkd1q96kl5cw3f5lyt80000gn/T/ipykernel_26320/3425580360.py:56: UserWarning: FigureCanvasPgf is non-interactive, and thus cannot be shown\n",
      "  plt.show()\n"
     ]
    },
    {
     "name": "stdout",
     "output_type": "stream",
     "text": [
      "Speedup Statistics (TillJIT-04.06. over ARM-CMSIS-DSP):\n",
      "Average Speedup: 1.61x\n",
      "Median Speedup: 1.63x\n",
      "Maximum Speedup: 1.66x\n",
      "Minimum Speedup: 1.00x\n"
     ]
    }
   ],
   "source": [
    "data, _, _ = plotFigure('gemm_growing_m.csv', 'M', 1.6, 'M (N=K=24)', 'Increment M', 'grow_m.pgf', True)\n",
    "calculateSpeedup(data)"
   ]
  },
  {
   "cell_type": "code",
   "execution_count": 13,
   "id": "5805033d",
   "metadata": {},
   "outputs": [
    {
     "name": "stderr",
     "output_type": "stream",
     "text": [
      "/var/folders/c0/3zmp_qkd1q96kl5cw3f5lyt80000gn/T/ipykernel_26320/3425580360.py:56: UserWarning: FigureCanvasPgf is non-interactive, and thus cannot be shown\n",
      "  plt.show()\n"
     ]
    },
    {
     "name": "stdout",
     "output_type": "stream",
     "text": [
      "Speedup Statistics (TillJIT-04.06. over ARM-CMSIS-DSP):\n",
      "Average Speedup: 1.33x\n",
      "Median Speedup: 1.37x\n",
      "Maximum Speedup: 1.65x\n",
      "Minimum Speedup: 0.86x\n"
     ]
    }
   ],
   "source": [
    "data, _, _ = plotFigure('gemm_growing_m_sram0.csv', 'M', 1.6, 'M (N=K=24)', \"Grow M Sram0\", 'grow_m_sram0.pgf', True)\n",
    "calculateSpeedup(data)"
   ]
  },
  {
   "cell_type": "code",
   "execution_count": 14,
   "id": "e289bbee",
   "metadata": {},
   "outputs": [
    {
     "name": "stderr",
     "output_type": "stream",
     "text": [
      "/var/folders/c0/3zmp_qkd1q96kl5cw3f5lyt80000gn/T/ipykernel_26320/3425580360.py:56: UserWarning: FigureCanvasPgf is non-interactive, and thus cannot be shown\n",
      "  plt.show()\n"
     ]
    },
    {
     "name": "stdout",
     "output_type": "stream",
     "text": [
      "Speedup Statistics (TillJIT-04.06. over ARM-CMSIS-DSP):\n",
      "Average Speedup: 1.60x\n",
      "Median Speedup: 1.62x\n",
      "Maximum Speedup: 1.66x\n",
      "Minimum Speedup: 0.99x\n"
     ]
    }
   ],
   "source": [
    "data, _, _ = plotFigure('gemm_growing_m_he.csv', 'M', 0.64, 'M (N=K=24)', 'Increment M HE', 'grow_m_he.pgf', True)\n",
    "calculateSpeedup(data)"
   ]
  },
  {
   "cell_type": "code",
   "execution_count": 15,
   "id": "cfab5204",
   "metadata": {},
   "outputs": [
    {
     "name": "stdout",
     "output_type": "stream",
     "text": [
      "Speedup Statistics (TillJIT-04.06. over ARM-CMSIS-DSP):\n",
      "Average Speedup: 1.67x\n",
      "Median Speedup: 1.64x\n",
      "Maximum Speedup: 2.96x\n",
      "Minimum Speedup: 1.61x\n"
     ]
    },
    {
     "name": "stderr",
     "output_type": "stream",
     "text": [
      "/var/folders/c0/3zmp_qkd1q96kl5cw3f5lyt80000gn/T/ipykernel_26320/3425580360.py:29: RuntimeWarning: More than 20 figures have been opened. Figures created through the pyplot interface (`matplotlib.pyplot.figure`) are retained until explicitly closed and may consume too much memory. (To control this warning, see the rcParam `figure.max_open_warning`). Consider using `matplotlib.pyplot.close()`.\n",
      "  plt.figure(figsize=(10, 6))\n",
      "/var/folders/c0/3zmp_qkd1q96kl5cw3f5lyt80000gn/T/ipykernel_26320/3425580360.py:56: UserWarning: FigureCanvasPgf is non-interactive, and thus cannot be shown\n",
      "  plt.show()\n"
     ]
    }
   ],
   "source": [
    "data, _, _ = plotFigure('gemm_growing_n.csv', 'N', 1.6, 'N (M=K=24)', 'Increment N', 'grow_n.pgf', True)\n",
    "calculateSpeedup(data)"
   ]
  },
  {
   "cell_type": "code",
   "execution_count": 16,
   "id": "3c86a5ee",
   "metadata": {},
   "outputs": [
    {
     "name": "stderr",
     "output_type": "stream",
     "text": [
      "/var/folders/c0/3zmp_qkd1q96kl5cw3f5lyt80000gn/T/ipykernel_26320/3425580360.py:56: UserWarning: FigureCanvasPgf is non-interactive, and thus cannot be shown\n",
      "  plt.show()\n"
     ]
    },
    {
     "name": "stdout",
     "output_type": "stream",
     "text": [
      "Speedup Statistics (TillJIT-04.06. over ARM-CMSIS-DSP):\n",
      "Average Speedup: 1.55x\n",
      "Median Speedup: 1.58x\n",
      "Maximum Speedup: 2.94x\n",
      "Minimum Speedup: 1.19x\n"
     ]
    }
   ],
   "source": [
    "data, _, _ = plotFigure('gemm_growing_n_sram0.csv', 'N', 1.6, 'N (M=K=24)', 'Increment N SRAM0', 'grow_n_sram0.pgf', True)\n",
    "calculateSpeedup(data)"
   ]
  },
  {
   "cell_type": "code",
   "execution_count": 17,
   "id": "e782a57a",
   "metadata": {},
   "outputs": [
    {
     "name": "stderr",
     "output_type": "stream",
     "text": [
      "/var/folders/c0/3zmp_qkd1q96kl5cw3f5lyt80000gn/T/ipykernel_26320/3425580360.py:56: UserWarning: FigureCanvasPgf is non-interactive, and thus cannot be shown\n",
      "  plt.show()\n"
     ]
    },
    {
     "name": "stdout",
     "output_type": "stream",
     "text": [
      "Speedup Statistics (TillJIT-04.06. over ARM-CMSIS-DSP):\n",
      "Average Speedup: 1.67x\n",
      "Median Speedup: 1.64x\n",
      "Maximum Speedup: 2.96x\n",
      "Minimum Speedup: 1.61x\n"
     ]
    }
   ],
   "source": [
    "data, _, _ = plotFigure('gemm_growing_n_he.csv', 'N', 0.64, 'N (M=K=24)', 'Increment N SRAM0', 'grow_n_he.pgf', True)\n",
    "calculateSpeedup(data)"
   ]
  },
  {
   "cell_type": "code",
   "execution_count": 18,
   "id": "7a6b238e",
   "metadata": {},
   "outputs": [
    {
     "name": "stderr",
     "output_type": "stream",
     "text": [
      "/var/folders/c0/3zmp_qkd1q96kl5cw3f5lyt80000gn/T/ipykernel_26320/831465193.py:41: UserWarning: FigureCanvasPgf is non-interactive, and thus cannot be shown\n",
      "  plt.show()\n"
     ]
    }
   ],
   "source": [
    "plt.clf()\n",
    "fig, ax = plt.subplots()\n",
    "\n",
    "data = pd.read_csv('gemm_square_ab_sram0.csv', sep=\";\")\n",
    "plt.plot(data['M'], data['GFLOPS'], label=\"A, B SRAM0\")\n",
    "\n",
    "data = pd.read_csv('gemm_square_a_sram0.csv', sep=\";\")\n",
    "plt.plot(data['M'], data['GFLOPS'], label=\"A SRAM0\")\n",
    "\n",
    "data = pd.read_csv('gemm_square_b_sram0.csv', sep=\";\")\n",
    "plt.plot(data['M'], data['GFLOPS'], label=\"B SRAM0\")\n",
    "\n",
    "data = pd.read_csv('gemm_square_c_sram0.csv', sep=\";\")\n",
    "ax.plot(data['M'], data['GFLOPS'], label=\"C SRAM0\")\n",
    "\n",
    "data = pd.read_csv('gemm_square_ac_sram0.csv', sep=\";\")\n",
    "ax.plot(data['M'], data['GFLOPS'], label=\"A, C SRAM0\")\n",
    "\n",
    "data = pd.read_csv('gemm_square_bc_sram0.csv', sep=\";\")\n",
    "ax.plot(data['M'], data['GFLOPS'], label=\"B, C SRAM0\")\n",
    "\n",
    "ax.axhline(y=1.6, color='r', linestyle='--', label='Peak')\n",
    "ax.set_xticks([i for i in range(0, 241, 24)])\n",
    "ax.xaxis.set_minor_locator(AutoMinorLocator(n=3)) # 0, 8, 16, 24 ...\n",
    "ax.yaxis.set_minor_locator(AutoMinorLocator(n=2)) # 0, 0.1, 0.2 ...\n",
    "ax.tick_params(axis='x', which='minor', length=2, direction='out')\n",
    "ax.tick_params(axis='y', which='minor', length=2, direction='out')\n",
    "ax.set_xlabel('Size (M=N=K)')\n",
    "ax.set_ylabel('GFLOPS')\n",
    "ax2 = ax.twinx()\n",
    "ax2.set_ylabel(\"GFLOPS (Peak Performance)\")\n",
    "ax2.yaxis.set_major_formatter(PercentFormatter(xmax=1.6))\n",
    "ymin, ymax = ax.get_ylim()\n",
    "ax2.set_ylim(ymin, ymax)\n",
    "ax2.plot([],[])\n",
    "\n",
    "#plt.legend(loc='lower right')\n",
    "ax.legend()\n",
    "ax.grid(True)\n",
    "ax.set_title(\"Square Different Storage Configurations\")\n",
    "plt.show()\n",
    "plt.savefig(\"pgf_export/square_storage.pgf\", format='pgf', backend='pgf')\n"
   ]
  },
  {
   "cell_type": "code",
   "execution_count": 26,
   "id": "7b4e1e76",
   "metadata": {},
   "outputs": [
    {
     "name": "stderr",
     "output_type": "stream",
     "text": [
      "/var/folders/c0/3zmp_qkd1q96kl5cw3f5lyt80000gn/T/ipykernel_26320/3099186895.py:32: UserWarning: FigureCanvasPgf is non-interactive, and thus cannot be shown\n",
      "  plt.show()\n"
     ]
    }
   ],
   "source": [
    "data = pd.read_csv('ablation.csv', sep=\";\")\n",
    "plt.clf()\n",
    "fig, ax = plt.subplots(figsize=(10, 6))\n",
    "\n",
    "average_gflops = data.groupby('Test')['GFLOPS'].mean().sort_values(ascending=True)\n",
    "\n",
    "bars = ax.barh(range(len(average_gflops)), average_gflops.values, \n",
    "               color='lightblue', edgecolor='black', alpha=0.8)\n",
    "\n",
    "for i, (test, value) in enumerate(average_gflops.items()):\n",
    "    add = 0.02 if round(value, 2) != 0.87 else 0.05\n",
    "    ax.text(value + add, i, f'{value:.2f}', \n",
    "            va='center', ha='left', fontweight='bold')\n",
    "\n",
    "ax.set_yticks(range(len(average_gflops)))\n",
    "ax.set_yticklabels(average_gflops.index, fontsize=10)\n",
    "ax.set_xlabel('Average GFLOPS', fontsize=12)\n",
    "ax.set_title('GEMM Optimization Ablation Study (24x24x24)', fontsize=14, fontweight='bold')\n",
    "\n",
    "# Add reference lines\n",
    "ax.axvline(x=1.6, color='green', linestyle='--', label='Peak (1.6 GFLOPS)')\n",
    "ax.axvline(x=0.9, color='red', linestyle='-.', label='ARM-CMSIS-DSP (0.9 GFLOPS)')\n",
    "\n",
    "# Grid and legend\n",
    "ax.grid(axis='x', linestyle='--', alpha=0.7)\n",
    "ax.legend(loc='lower right')\n",
    "\n",
    "# Set x-axis limits with some padding\n",
    "#ax.set_xlim(0, max(average_gflops.values) * 1.1)\n",
    "plt.savefig(\"pgf_export/ablation.pgf\", format='pgf', backend='pgf')\n",
    "\n",
    "plt.show()"
   ]
  },
  {
   "cell_type": "code",
   "execution_count": 20,
   "id": "a67faee5",
   "metadata": {},
   "outputs": [
    {
     "name": "stderr",
     "output_type": "stream",
     "text": [
      "/var/folders/c0/3zmp_qkd1q96kl5cw3f5lyt80000gn/T/ipykernel_26320/2976865030.py:19: UserWarning: FigureCanvasPgf is non-interactive, and thus cannot be shown\n",
      "  plt.show()\n"
     ]
    }
   ],
   "source": [
    "# Load the data\n",
    "data = pd.read_csv('components_exclude.csv', sep=\";\")\n",
    "data['Time'] = data['Time'].abs()\n",
    "# Group by 'Test' and calculate the average time for each component\n",
    "average_time = data.groupby('Test')['Time'].mean().sort_values(ascending=False)\n",
    "\n",
    "# Create a horizontal bar plot\n",
    "plt.figure(figsize=(10, 6))\n",
    "average_time.plot(kind='barh', color='skyblue', edgecolor='black')\n",
    "\n",
    "# Add labels and title\n",
    "plt.xlabel('Average Time (ms)')\n",
    "plt.ylabel('Component')\n",
    "plt.title('Time Taken by Components of the Program')\n",
    "plt.grid(axis='x', linestyle='--', alpha=0.7)\n",
    "\n",
    "# Show the plot\n",
    "plt.tight_layout()\n",
    "plt.show()"
   ]
  },
  {
   "cell_type": "code",
   "execution_count": 21,
   "id": "8bbd8ef6",
   "metadata": {},
   "outputs": [
    {
     "name": "stderr",
     "output_type": "stream",
     "text": [
      "/var/folders/c0/3zmp_qkd1q96kl5cw3f5lyt80000gn/T/ipykernel_26320/1301113868.py:20: UserWarning: FigureCanvasPgf is non-interactive, and thus cannot be shown\n",
      "  plt.show()\n"
     ]
    }
   ],
   "source": [
    "data = pd.read_csv('components_exclude.csv', sep=\";\")\n",
    "\n",
    "# Take the absolute value of the 'Time' column\n",
    "data['Time'] = data['Time'].abs()\n",
    "\n",
    "# Group by 'Test' and calculate the total time for each component\n",
    "total_time = data.groupby('Test')['Time'].sum()\n",
    "\n",
    "# Create the pie chart\n",
    "plt.figure(figsize=(8, 8))\n",
    "total_time.plot(kind='pie', autopct='%1.1f%%', startangle=90, colors=plt.cm.Paired.colors)\n",
    "\n",
    "# Add title\n",
    "plt.title('Proportion of Time Taken by Components')\n",
    "\n",
    "# Equal aspect ratio ensures the pie chart is circular\n",
    "plt.axis('equal')\n",
    "\n",
    "# Show the plot\n",
    "plt.show()"
   ]
  },
  {
   "cell_type": "code",
   "execution_count": 22,
   "id": "a8a3134c",
   "metadata": {},
   "outputs": [
    {
     "name": "stderr",
     "output_type": "stream",
     "text": [
      "/var/folders/c0/3zmp_qkd1q96kl5cw3f5lyt80000gn/T/ipykernel_26320/848735233.py:27: UserWarning: FigureCanvasPgf is non-interactive, and thus cannot be shown\n",
      "  plt.show()\n"
     ]
    }
   ],
   "source": [
    "# Load the data\n",
    "data = pd.read_csv('components_include_additive.csv', sep=\";\")\n",
    "data['Time'] = data['Time'].abs()\n",
    "\n",
    "average_time = data.groupby('Test')['Time'].mean().reset_index()\n",
    "nomicrokernel_time = data[data['Test'] == 'NoMicrokernel']['Time'].mean()\n",
    "aggregated_value = average_time[average_time['Test'].isin(['NoMicrokernel', 'OnlyCLoadStore', 'OnlyAAdd', 'OnlyBLoad', 'OnlyALoad', 'OnlyVFMA'])]['Time'].sum()\n",
    "aggregated_value -= 6 * nomicrokernel_time\n",
    "\n",
    "# Add the aggregated value as a new row using pd.concat\n",
    "aggregated_row = pd.DataFrame({'Test': ['Aggregated Components'], 'Time': [aggregated_value]})\n",
    "aggregated_data = pd.concat([average_time, aggregated_row], ignore_index=True)\n",
    "aggregated_data = aggregated_data.sort_values(by='Time', ascending=False)\n",
    "\n",
    "\n",
    "# Create a horizontal bar plot\n",
    "plt.bar(aggregated_data['Test'], aggregated_data['Time'], color='skyblue', edgecolor='black')\n",
    "\n",
    "# Add labels and title\n",
    "plt.ylabel('Average Time (ms)')\n",
    "plt.xlabel('Component')\n",
    "plt.title('Dauer einzelner Programmteile (8x3 Baseline)')\n",
    "plt.grid(axis='x', linestyle='--', alpha=0.7)\n",
    "plt.xticks(rotation=70, ha='right')\n",
    "\n",
    "# Show the plot\n",
    "plt.show()"
   ]
  },
  {
   "cell_type": "code",
   "execution_count": 23,
   "id": "8a46f051",
   "metadata": {},
   "outputs": [
    {
     "name": "stderr",
     "output_type": "stream",
     "text": [
      "/var/folders/c0/3zmp_qkd1q96kl5cw3f5lyt80000gn/T/ipykernel_26320/3365420908.py:26: UserWarning: FigureCanvasPgf is non-interactive, and thus cannot be shown\n",
      "  plt.show()\n"
     ]
    }
   ],
   "source": [
    "# Load the data\n",
    "data = pd.read_csv('components_include_additive_slow.csv', sep=\";\")\n",
    "data['Time'] = data['Time'].abs()\n",
    "\n",
    "average_time = data.groupby('Test')['Time'].mean().reset_index()\n",
    "nomicrokernel_time = data[data['Test'] == 'NoMicrokernel']['Time'].mean()\n",
    "aggregated_value = average_time[average_time['Test'].isin(['NoMicrokernel', 'OnlyCLoadStore', 'OnlyAAdd', 'OnlyBLoad', 'OnlyALoad', 'OnlyVFMA'])]['Time'].sum()\n",
    "aggregated_value -= 5 * nomicrokernel_time\n",
    "\n",
    "# Add the aggregated value as a new row using pd.concat\n",
    "aggregated_row = pd.DataFrame({'Test': ['Aggregated Components'], 'Time': [aggregated_value]})\n",
    "aggregated_data = pd.concat([average_time, aggregated_row], ignore_index=True)\n",
    "aggregated_data = aggregated_data.sort_values(by='Time', ascending=False)\n",
    "\n",
    "# Create a horizontal bar plot\n",
    "plt.bar(aggregated_data['Test'], aggregated_data['Time'], color='skyblue', edgecolor='black')\n",
    "\n",
    "# Add labels and title\n",
    "plt.ylabel('Average Time (ms)')\n",
    "plt.xlabel('Component')\n",
    "plt.title('Dauer einzelner Programmteile (NoInterleaving 8x3)')\n",
    "plt.grid(axis='x', linestyle='--', alpha=0.7)\n",
    "plt.xticks(rotation=70, ha='right')\n",
    "\n",
    "# Show the plot\n",
    "plt.show()"
   ]
  },
  {
   "cell_type": "code",
   "execution_count": 24,
   "id": "7bf7b9ed",
   "metadata": {},
   "outputs": [
    {
     "name": "stderr",
     "output_type": "stream",
     "text": [
      "/var/folders/c0/3zmp_qkd1q96kl5cw3f5lyt80000gn/T/ipykernel_26320/3029085115.py:20: UserWarning: FigureCanvasPgf is non-interactive, and thus cannot be shown\n",
      "  plt.show()\n"
     ]
    }
   ],
   "source": [
    "data = pd.read_csv('components_include_additive_slow.csv', sep=\";\")\n",
    "\n",
    "# Take the absolute value of the 'Time' column\n",
    "data['Time'] = data['Time'].abs()\n",
    "\n",
    "# Group by 'Test' and calculate the total time for each component\n",
    "total_time = data[data['Test'].isin(['NoMicrokernel', 'OnlyCLoadStore', 'OnlyAAdd', 'OnlyBLoad', 'OnlyALoad', 'OnlyVFMA'])].groupby('Test')['Time'].mean()\n",
    "\n",
    "# Create the pie chart\n",
    "plt.figure(figsize=(8, 8))\n",
    "total_time.plot(kind='pie', autopct='%1.1f%%', startangle=90, colors=plt.cm.Paired.colors)\n",
    "\n",
    "# Add title\n",
    "plt.title('Proportion of Time Taken by Components')\n",
    "\n",
    "# Equal aspect ratio ensures the pie chart is circular\n",
    "plt.axis('equal')\n",
    "\n",
    "# Show the plot\n",
    "plt.show()"
   ]
  }
 ],
 "metadata": {
  "kernelspec": {
   "display_name": "base",
   "language": "python",
   "name": "python3"
  },
  "language_info": {
   "codemirror_mode": {
    "name": "ipython",
    "version": 3
   },
   "file_extension": ".py",
   "mimetype": "text/x-python",
   "name": "python",
   "nbconvert_exporter": "python",
   "pygments_lexer": "ipython3",
   "version": "3.12.9"
  }
 },
 "nbformat": 4,
 "nbformat_minor": 5
}
