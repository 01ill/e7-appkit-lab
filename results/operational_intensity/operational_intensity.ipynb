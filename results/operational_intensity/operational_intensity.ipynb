{
 "cells": [
  {
   "cell_type": "code",
   "execution_count": 7,
   "id": "b0d0b562",
   "metadata": {},
   "outputs": [],
   "source": [
    "# !conda install pandas -y"
   ]
  },
  {
   "cell_type": "code",
   "execution_count": 8,
   "id": "e53fd1f8",
   "metadata": {},
   "outputs": [
    {
     "name": "stderr",
     "output_type": "stream",
     "text": [
      "/var/folders/c0/3zmp_qkd1q96kl5cw3f5lyt80000gn/T/ipykernel_6799/919450807.py:50: UserWarning: FigureCanvasPgf is non-interactive, and thus cannot be shown\n",
      "  plt.show()\n"
     ]
    }
   ],
   "source": [
    "import pandas as pd\n",
    "import matplotlib as mpl\n",
    "mpl.use(\"pgf\")\n",
    "\n",
    "import matplotlib.pyplot as plt\n",
    "from matplotlib.ticker import AutoMinorLocator\n",
    "import numpy as np\n",
    "from matplotlib.ticker import ScalarFormatter\n",
    "\n",
    "# plt.style.use(['science', 'ieee'])\n",
    "mpl.rcParams.update({\n",
    "    \"pgf.texsystem\": 'pdflatex',\n",
    "    \"text.usetex\": True,\n",
    "    \"font.family\": \"serif\",\n",
    "    \"font.serif\": [],\n",
    "    \"pgf.rcfonts\": False,\n",
    "    \"pgf.preamble\": \"\\n\".join([\n",
    "      r'\\usepackage{amsmath}',\n",
    "      r\"\\usepackage[utf8x]{inputenc}\",\n",
    "      r\"\\usepackage[T1]{fontenc}\",\n",
    "      r\"\\usepackage{cmbright}\",\n",
    "    ]),\n",
    "})\n",
    "\n",
    "csv_file = \"operational_intensity_ac6_hp_no_mem.csv\"\n",
    "data = pd.read_csv(csv_file)\n",
    "\n",
    "x_column = data.columns[0]\n",
    "y_column = data.columns[1]\n",
    "csv_file_2 = \"operational_intensity_ac6_hp_mem.csv\"\n",
    "data_2 = pd.read_csv(csv_file_2)\n",
    "\n",
    "# Roofline Model\n",
    "x_values = np.linspace(0, max(data[x_column]), 500)\n",
    "y_values = np.minimum(1.9 * x_values, 1.6) # min(1.9x, 1.6)\n",
    "\n",
    "plt.xscale('log')\n",
    "plt.yscale('log')\n",
    "plt.title(\"Operational Intensity\")\n",
    "plt.xlabel(\"Operational Intensity (FLOPS/Byte)\")\n",
    "plt.ylabel(\"GFLOPS (FP32)\")\n",
    "plt.gca().xaxis.set_major_formatter(ScalarFormatter())\n",
    "plt.gca().yaxis.set_major_formatter(ScalarFormatter())\n",
    "plt.plot(data[x_column], data[y_column], marker='o', linestyle='--', color='b', markersize=4)\n",
    "plt.plot(data_2[x_column], data_2[y_column], marker='x', linestyle='-', color='r', markersize=4)\n",
    "plt.plot(x_values, y_values, linestyle='-.', color='g')\n",
    "plt.legend(['No Memory Access', 'Memory Access', 'Roofline'])\n",
    "plt.grid(visible=True)\n",
    "plt.savefig(\"./pgf_export/op_intensity.pgf\", format='pgf', backend='pgf')\n",
    "plt.show()"
   ]
  },
  {
   "cell_type": "markdown",
   "id": "3b1c43fd",
   "metadata": {},
   "source": [
    "# m\n",
    "Insgesamt:\n",
    "- 128 Bit (= 16 Byte) für A laden\n",
    "- 196 Bit (= 24 Byte) für B laden\n",
    "- 6x VFMA (jeweils 8 FLOP) => 48 FLOP\n",
    "- somit $48/40=1.2$ Operational Intensity\n",
    "\n",
    "```asm\n",
    "gemm_asm_4x6_loop:\n",
    "    /* Load A */\n",
    "    vldrw.f32 q6, [r0] // 128 Bit laden\n",
    "    add r0, r0, r3, lsl #2 // Einmal Länge aufaddieren\n",
    "\n",
    "    add r6, r1, r3, lsl #3 // 2len\n",
    "    ldr r7, [r6] // load b[2len] -> 32 Bit\n",
    "    ldr r8, [r6, r3, lsl #2]  -> 32 Bit\n",
    "    add r6, r6, r3, lsl #3 // 2len + 2len\n",
    "    ldr r9, [r6] -> 32 Bit\n",
    "    vfma.f32 q2, q6, r7 -> 8 FLOP\n",
    "    vfma.f32 q3, q6, r8 -> 8 FLOP\n",
    "    vfma.f32 q4, q6, r9 -> 8 FLOP\n",
    "\n",
    "    // load b[5len] \n",
    "    ldr r8, [r6, r3, lsl #2] -> 32 Bit\n",
    "    vfma.f32 q5, q6, r8 -> 8 FLOP\n",
    "\n",
    "    ldr r7, [r1, r3, lsl #2] // load b[len] -> 32 Bit\n",
    "    ldr r8, [r1], #4 // load b[0] and rewrite for new k -> 32 Bit\n",
    "    vfma.f32 q0, q6, r8 -> 8 FLOP\n",
    "    vfma.f32 q1, q6, r7 -> 8 FLOP\n",
    "\n",
    "    le lr, gemm_asm_4x6_loop\n",
    "```\n"
   ]
  },
  {
   "cell_type": "markdown",
   "id": "90e5a196",
   "metadata": {},
   "source": [
    "# Roofline\n",
    "- $P = \\min\\{\\pi, \\beta \\times I\\}$\n",
    "- $\\pi$... peak performance\n",
    "- $\\beta$... peak bandwidth\n",
    "- $I$... arithmetic intensity"
   ]
  },
  {
   "cell_type": "markdown",
   "id": "57351972",
   "metadata": {},
   "source": []
  }
 ],
 "metadata": {
  "kernelspec": {
   "display_name": "base",
   "language": "python",
   "name": "python3"
  },
  "language_info": {
   "codemirror_mode": {
    "name": "ipython",
    "version": 3
   },
   "file_extension": ".py",
   "mimetype": "text/x-python",
   "name": "python",
   "nbconvert_exporter": "python",
   "pygments_lexer": "ipython3",
   "version": "3.12.9"
  }
 },
 "nbformat": 4,
 "nbformat_minor": 5
}
