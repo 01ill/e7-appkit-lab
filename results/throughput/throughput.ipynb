{
 "cells": [
  {
   "cell_type": "code",
   "execution_count": 1,
   "id": "aa06a893",
   "metadata": {},
   "outputs": [
    {
     "name": "stdout",
     "output_type": "stream",
     "text": [
      "{512, 536, 560, 588, 616, 644, 672, 704, 740, 772, 808, 848, 888, 928, 972, 1020, 1068, 1116, 1168, 1224, 1280, 1340, 1404, 1472, 1540, 1612, 1688, 1768, 1848, 1936, 2028, 2124, 2224, 2328, 2436, 2552, 2672, 2796, 2928, 3064, 3208, 3360, 3516, 3680, 3856, 4036, 4224, 4424, 4632, 4848, 5076, 5312, 5564, 5824, 6096, 6384, 6684, 6996, 7324, 7668, 8028, 8404, 8800, 9212, 9644, 10096, 10572, 11068, 11588, 12128, 12700, 13296, 13920, 14572, 15256, 15972, 16720, 17504, 18328, 19188, 20088, 21028, 22016, 23048, 24128, 25260, 26448, 27688, 28988, 30348, 31772, 33260, 34820, 36456, 38164, 39956, 41832, 43792, 45848, 47996};\n"
     ]
    }
   ],
   "source": [
    "import numpy as np\n",
    "\n",
    "n = 100\n",
    "log_min = np.log(513)\n",
    "log_max = np.log(48000)\n",
    "\n",
    "t = np.linspace(0, 1, n)\n",
    "logs = log_min + (log_max - log_min) * t\n",
    "values = np.exp(logs)\n",
    "print(\"{\", end=\"\")\n",
    "for i, v in enumerate(values):\n",
    "    if i > 0:\n",
    "        print(\", \", end=\"\")\n",
    "    print(int(v - (v % 4)), end=\"\")\n",
    "print(\"};\")\n"
   ]
  },
  {
   "cell_type": "code",
   "execution_count": 2,
   "id": "bdc6fce1",
   "metadata": {},
   "outputs": [],
   "source": [
    "import pandas as pd\n",
    "import matplotlib as mpl\n",
    "mpl.use(\"pgf\")\n",
    "\n",
    "import matplotlib.pyplot as plt\n",
    "from matplotlib.ticker import AutoMinorLocator, PercentFormatter"
   ]
  },
  {
   "cell_type": "code",
   "execution_count": 3,
   "id": "8252e634",
   "metadata": {},
   "outputs": [],
   "source": [
    "# plt.style.use(['science', 'ieee'])\n",
    "mpl.rcParams.update({\n",
    "    \"pgf.texsystem\": 'pdflatex',\n",
    "    \"text.usetex\": True,\n",
    "    \"font.family\": \"serif\",\n",
    "    \"font.serif\": [],\n",
    "    \"pgf.rcfonts\": False,\n",
    "    \"pgf.preamble\": \"\\n\".join([\n",
    "      r'\\usepackage{amsmath}',\n",
    "      r\"\\usepackage[utf8x]{inputenc}\",\n",
    "      r\"\\usepackage[T1]{fontenc}\",\n",
    "      r\"\\usepackage{cmbright}\",\n",
    "    ]),\n",
    "})"
   ]
  },
  {
   "cell_type": "code",
   "execution_count": 4,
   "id": "4398ffe9",
   "metadata": {},
   "outputs": [],
   "source": [
    "def plotFigure(csvPath, plotOver, peakPerf, xlabel, title, pgf_name, mark_intrinsics=False):\n",
    "    plt.clf()\n",
    "    fig, ax = plt.subplots()\n",
    "    data = pd.read_csv(csvPath, sep=\";\")\n",
    "    data['Size'] = data['Size'] * 4\n",
    "    plt.figure(figsize=(10, 6))\n",
    "    for type_exec in data['Test'].unique():\n",
    "        subset = data[data['Test'] == type_exec]\n",
    "        ax.plot(subset[plotOver], subset['GB/s'], label=type_exec)\n",
    "\n",
    "    # ax.set_xscale('log')\n",
    "    ax.axhline(y=peakPerf, linestyle='--', label='Peak')\n",
    "    ax.axvline(x=32768)\n",
    "    # ax.set_xticks([i for i in range(0, 241, 24)])\n",
    "    # ax.xaxis.set_minor_locator(AutoMinorLocator(n=3)) # 0, 8, 16, 24 ...\n",
    "    # ax.yaxis.set_minor_locator(AutoMinorLocator(n=2)) # 0, 0.1, 0.2 ...\n",
    "    # ax.tick_params(axis='x', which='minor', length=2, direction='out')\n",
    "    # ax.tick_params(axis='y', which='minor', length=2, direction='out')\n",
    "\n",
    "    # ax2 = ax.twinx()\n",
    "    # ax2.set_ylabel(\"GFLOPS (Peak Performance)\")\n",
    "    # ax2.yaxis.set_major_formatter(PercentFormatter(xmax=peakPerf))\n",
    "    # ymin, ymax = ax.get_ylim()\n",
    "    # ax2.set_ylim(ymin, ymax)\n",
    "    # ax2.plot([],[])\n",
    "    ax.set_xlabel(xlabel)\n",
    "    ax.set_ylabel('GB/s')\n",
    "    ax.legend(loc='right', bbox_to_anchor=(1, 0.75))\n",
    "    ax.grid(True)\n",
    "    ax.set_title(title)\n",
    "    plt.show()\n",
    "    fig.savefig(\"pgf_export/\" + pgf_name, format='pgf', backend='pgf')\n",
    "    return data, fig, ax"
   ]
  },
  {
   "cell_type": "code",
   "execution_count": 5,
   "id": "c538a4d4",
   "metadata": {},
   "outputs": [
    {
     "name": "stderr",
     "output_type": "stream",
     "text": [
      "/var/folders/c0/3zmp_qkd1q96kl5cw3f5lyt80000gn/T/ipykernel_24506/1555306849.py:31: UserWarning: FigureCanvasPgf is non-interactive, and thus cannot be shown\n",
      "  plt.show()\n"
     ]
    }
   ],
   "source": [
    "data, fig, ax = plotFigure('throughput_diff_size.csv', 'Size', 3.2, 'Size', \"Throughput HP-Core\", \"throughput_diff_size.pgf\")"
   ]
  },
  {
   "cell_type": "code",
   "execution_count": 6,
   "id": "dfb148f1",
   "metadata": {},
   "outputs": [
    {
     "name": "stderr",
     "output_type": "stream",
     "text": [
      "/var/folders/c0/3zmp_qkd1q96kl5cw3f5lyt80000gn/T/ipykernel_24506/1555306849.py:31: UserWarning: FigureCanvasPgf is non-interactive, and thus cannot be shown\n",
      "  plt.show()\n"
     ]
    }
   ],
   "source": [
    "data, fig, ax = plotFigure('throughput_diff_size_he.csv', 'Size', 1.28, 'Size', \"Throughput HE-Core\", \"throughput_diff_size_he.pgf\")"
   ]
  }
 ],
 "metadata": {
  "kernelspec": {
   "display_name": "base",
   "language": "python",
   "name": "python3"
  },
  "language_info": {
   "codemirror_mode": {
    "name": "ipython",
    "version": 3
   },
   "file_extension": ".py",
   "mimetype": "text/x-python",
   "name": "python",
   "nbconvert_exporter": "python",
   "pygments_lexer": "ipython3",
   "version": "3.12.9"
  }
 },
 "nbformat": 4,
 "nbformat_minor": 5
}
