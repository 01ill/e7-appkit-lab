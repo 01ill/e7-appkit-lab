{
 "cells": [
  {
   "cell_type": "code",
   "execution_count": 4,
   "id": "fe5435d3",
   "metadata": {},
   "outputs": [],
   "source": [
    "import pandas as pd"
   ]
  },
  {
   "cell_type": "code",
   "execution_count": 5,
   "id": "1b69443d",
   "metadata": {},
   "outputs": [
    {
     "data": {
      "text/html": [
       "<div>\n",
       "<style scoped>\n",
       "    .dataframe tbody tr th:only-of-type {\n",
       "        vertical-align: middle;\n",
       "    }\n",
       "\n",
       "    .dataframe tbody tr th {\n",
       "        vertical-align: top;\n",
       "    }\n",
       "\n",
       "    .dataframe thead th {\n",
       "        text-align: right;\n",
       "    }\n",
       "</style>\n",
       "<table border=\"1\" class=\"dataframe\">\n",
       "  <thead>\n",
       "    <tr style=\"text-align: right;\">\n",
       "      <th></th>\n",
       "      <th>Test</th>\n",
       "      <th>TimeAbs</th>\n",
       "      <th>Count</th>\n",
       "      <th>TimeRel</th>\n",
       "      <th>Speedup</th>\n",
       "    </tr>\n",
       "  </thead>\n",
       "  <tbody>\n",
       "    <tr>\n",
       "      <th>0</th>\n",
       "      <td>BranchBackward</td>\n",
       "      <td>2241</td>\n",
       "      <td>100000000</td>\n",
       "      <td>1.00</td>\n",
       "      <td>1.00</td>\n",
       "    </tr>\n",
       "    <tr>\n",
       "      <th>1</th>\n",
       "      <td>BranchForward</td>\n",
       "      <td>2489</td>\n",
       "      <td>100000000</td>\n",
       "      <td>1.11</td>\n",
       "      <td>0.90</td>\n",
       "    </tr>\n",
       "    <tr>\n",
       "      <th>2</th>\n",
       "      <td>BranchLOB</td>\n",
       "      <td>1992</td>\n",
       "      <td>100000000</td>\n",
       "      <td>0.89</td>\n",
       "      <td>1.12</td>\n",
       "    </tr>\n",
       "    <tr>\n",
       "      <th>3</th>\n",
       "      <td>BranchCBZ</td>\n",
       "      <td>2489</td>\n",
       "      <td>100000000</td>\n",
       "      <td>1.11</td>\n",
       "      <td>0.90</td>\n",
       "    </tr>\n",
       "  </tbody>\n",
       "</table>\n",
       "</div>"
      ],
      "text/plain": [
       "             Test  TimeAbs      Count  TimeRel  Speedup\n",
       "0  BranchBackward     2241  100000000     1.00     1.00\n",
       "1   BranchForward     2489  100000000     1.11     0.90\n",
       "2       BranchLOB     1992  100000000     0.89     1.12\n",
       "3       BranchCBZ     2489  100000000     1.11     0.90"
      ]
     },
     "execution_count": 5,
     "metadata": {},
     "output_type": "execute_result"
    }
   ],
   "source": [
    "data = pd.read_csv('branch_operations.csv', sep=\";\")\n",
    "baseline = data['TimeAbs'].iloc[0]\n",
    "data['TimeRel'] = data['TimeAbs'] / baseline\n",
    "data['TimeRel'] = data['TimeRel'].round(2)\n",
    "data['Speedup'] = (baseline / data['TimeAbs']).round(2)\n",
    "data"
   ]
  },
  {
   "cell_type": "code",
   "execution_count": 6,
   "id": "bb6d7d45",
   "metadata": {},
   "outputs": [],
   "source": [
    "data.to_csv('branch_operations_with_rel.csv', sep=\";\", index=False)"
   ]
  },
  {
   "cell_type": "code",
   "execution_count": null,
   "id": "6b40b696",
   "metadata": {},
   "outputs": [],
   "source": []
  }
 ],
 "metadata": {
  "kernelspec": {
   "display_name": "base",
   "language": "python",
   "name": "python3"
  },
  "language_info": {
   "codemirror_mode": {
    "name": "ipython",
    "version": 3
   },
   "file_extension": ".py",
   "mimetype": "text/x-python",
   "name": "python",
   "nbconvert_exporter": "python",
   "pygments_lexer": "ipython3",
   "version": "3.12.9"
  }
 },
 "nbformat": 4,
 "nbformat_minor": 5
}
