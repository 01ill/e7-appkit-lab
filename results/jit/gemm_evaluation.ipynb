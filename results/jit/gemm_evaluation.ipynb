{
 "cells": [
  {
   "cell_type": "code",
   "execution_count": 10,
   "id": "91cd0c29",
   "metadata": {},
   "outputs": [],
   "source": [
    "# !conda install -c conda-forge scienceplots -y"
   ]
  },
  {
   "cell_type": "code",
   "execution_count": 11,
   "id": "9e4c9861",
   "metadata": {},
   "outputs": [],
   "source": [
    "import pandas as pd\n",
    "import matplotlib as mpl\n",
    "mpl.use(\"pgf\")\n",
    "\n",
    "import matplotlib.pyplot as plt\n",
    "from matplotlib.ticker import AutoMinorLocator"
   ]
  },
  {
   "cell_type": "code",
   "execution_count": 12,
   "id": "fec1a430",
   "metadata": {},
   "outputs": [],
   "source": [
    "# plt.style.use(['science', 'ieee'])\n",
    "mpl.rcParams.update({\n",
    "    \"pgf.texsystem\": 'pdflatex',\n",
    "    \"text.usetex\": True,\n",
    "    \"font.family\": \"serif\",\n",
    "    \"font.serif\": [],\n",
    "    \"pgf.rcfonts\": False,\n",
    "    \"pgf.preamble\": \"\\n\".join([\n",
    "      r'\\usepackage{amsmath}',\n",
    "      r\"\\usepackage[utf8x]{inputenc}\",\n",
    "      r\"\\usepackage[T1]{fontenc}\",\n",
    "      r\"\\usepackage{cmbright}\",\n",
    "    ]),\n",
    "})"
   ]
  },
  {
   "cell_type": "code",
   "execution_count": 13,
   "id": "9080677c",
   "metadata": {},
   "outputs": [],
   "source": [
    "color_map = {\n",
    "    \"ARM-CMSIS-DSP\": \"C0\",\n",
    "    \"CMSIS-DSP\": \"C0\",\n",
    "    \"TillJIT\": \"C1\",\n",
    "    \"tIlljIt\": \"C1\",\n",
    "    \"TillJIT-04.06.\": 'C2',\n",
    "    \"JIT\": \"C1\",\n",
    "    \"ReferenceCM\": \"C3\",\n",
    "    \"Peak\": \"C4\",\n",
    "    \"Intrinsics\": \"C5\"\n",
    "}"
   ]
  },
  {
   "cell_type": "code",
   "execution_count": 14,
   "id": "64cec71a",
   "metadata": {},
   "outputs": [],
   "source": [
    "def calculateSpeedup(data):\n",
    "    # Filter data for TillJIT and ARM-CMSIS-DSP\n",
    "    tilljit_data = data[data['Type'] == 'TillJIT-04.06.']\n",
    "    arm_data = data[data['Type'] == 'ARM-CMSIS-DSP']\n",
    "\n",
    "    # Merge datasets on common dimensions (M, K, N)\n",
    "    merged_data = pd.merge(tilljit_data, arm_data, on=['M', 'K', 'N'], suffixes=('_tilljit', '_arm'))\n",
    "\n",
    "    # Calculate speedup (TillJIT GFLOPS / ARM GFLOPS)\n",
    "    merged_data['Speedup'] = merged_data['GFLOPS_tilljit'] / merged_data['GFLOPS_arm']\n",
    "\n",
    "    # Calculate statistics\n",
    "    average_speedup = merged_data['Speedup'].mean()\n",
    "    median_speedup = merged_data['Speedup'].median()\n",
    "    maximum_speedup = merged_data['Speedup'].max()\n",
    "    minimum_speedup = merged_data['Speedup'].min()\n",
    "\n",
    "    print(f\"Speedup Statistics (TillJIT-04.06. over ARM-CMSIS-DSP):\")\n",
    "    print(f\"Average Speedup: {average_speedup:.2f}x\")\n",
    "    print(f\"Median Speedup: {median_speedup:.2f}x\")\n",
    "    print(f\"Maximum Speedup: {maximum_speedup:.2f}x\")\n",
    "    print(f\"Minimum Speedup: {minimum_speedup:.2f}x\")"
   ]
  },
  {
   "cell_type": "code",
   "execution_count": 15,
   "id": "391d5f67",
   "metadata": {},
   "outputs": [
    {
     "name": "stdout",
     "output_type": "stream",
     "text": [
      "Speedup Statistics (TillJIT-04.06. over ARM-CMSIS-DSP):\n",
      "Average Speedup: 1.64x\n",
      "Median Speedup: 1.63x\n",
      "Maximum Speedup: 1.94x\n",
      "Minimum Speedup: 1.63x\n"
     ]
    },
    {
     "name": "stderr",
     "output_type": "stream",
     "text": [
      "/var/folders/c0/3zmp_qkd1q96kl5cw3f5lyt80000gn/T/ipykernel_31022/3273850913.py:14: UserWarning: FigureCanvasPgf is non-interactive, and thus cannot be shown\n",
      "  plt.show()\n"
     ]
    }
   ],
   "source": [
    "data = pd.read_csv('gemm_growing_k.csv', sep=\";\")\n",
    "data\n",
    "#plt.figure(figsize=(10, 6))\n",
    "for type_exec in data['Type'].unique():\n",
    "    subset = data[data['Type'] == type_exec]\n",
    "    plt.plot(subset['K'], subset['GFLOPS'], label=type_exec, color=color_map.get(type_exec, 'black'))\n",
    "\n",
    "plt.axhline(y=1.6, color=color_map.get(type_exec, 'black'), linestyle='--', label='Peak')\n",
    "plt.xlabel('K (M=N=24)')\n",
    "plt.ylabel('GFLOPS')\n",
    "plt.figlegend()\n",
    "plt.grid(True)\n",
    "plt.title(\"Increment K\")\n",
    "plt.show()\n",
    "\n",
    "calculateSpeedup(data)"
   ]
  },
  {
   "cell_type": "code",
   "execution_count": 16,
   "id": "c920b620",
   "metadata": {},
   "outputs": [
    {
     "name": "stdout",
     "output_type": "stream",
     "text": [
      "Speedup Statistics (TillJIT-04.06. over ARM-CMSIS-DSP):\n",
      "Average Speedup: 1.64x\n",
      "Median Speedup: 1.63x\n",
      "Maximum Speedup: 1.94x\n",
      "Minimum Speedup: 1.63x\n"
     ]
    },
    {
     "name": "stderr",
     "output_type": "stream",
     "text": [
      "/var/folders/c0/3zmp_qkd1q96kl5cw3f5lyt80000gn/T/ipykernel_31022/3899187463.py:14: UserWarning: FigureCanvasPgf is non-interactive, and thus cannot be shown\n",
      "  plt.show()\n"
     ]
    }
   ],
   "source": [
    "data = pd.read_csv('gemm_growing_k_he.csv', sep=\";\")\n",
    "data\n",
    "#plt.figure(figsize=(10, 6))\n",
    "for type_exec in data['Type'].unique():\n",
    "    subset = data[data['Type'] == type_exec]\n",
    "    plt.plot(subset['K'], subset['GFLOPS'], label=type_exec, color=color_map.get(type_exec, 'black'))\n",
    "\n",
    "plt.axhline(y=0.64, color='r', linestyle='--', label='Peak')\n",
    "plt.xlabel('K (M=N=24)')\n",
    "plt.ylabel('GFLOPS')\n",
    "plt.legend()\n",
    "plt.grid(True)\n",
    "plt.title(\"Increment K HE Core\")\n",
    "plt.show()\n",
    "calculateSpeedup(data)"
   ]
  },
  {
   "cell_type": "code",
   "execution_count": 17,
   "id": "717971b6",
   "metadata": {},
   "outputs": [
    {
     "name": "stdout",
     "output_type": "stream",
     "text": [
      "Speedup Statistics (TillJIT-04.06. over ARM-CMSIS-DSP):\n",
      "Average Speedup: 1.55x\n",
      "Median Speedup: 1.55x\n",
      "Maximum Speedup: 1.85x\n",
      "Minimum Speedup: 1.39x\n"
     ]
    },
    {
     "name": "stderr",
     "output_type": "stream",
     "text": [
      "/var/folders/c0/3zmp_qkd1q96kl5cw3f5lyt80000gn/T/ipykernel_31022/2472648550.py:14: UserWarning: FigureCanvasPgf is non-interactive, and thus cannot be shown\n",
      "  plt.show()\n"
     ]
    }
   ],
   "source": [
    "data = pd.read_csv('gemm_growing_k_sram0.csv', sep=\";\")\n",
    "data\n",
    "#plt.figure(figsize=(10, 6))\n",
    "for type_exec in data['Type'].unique():\n",
    "    subset = data[data['Type'] == type_exec]\n",
    "    plt.plot(subset['K'], subset['GFLOPS'], label=type_exec, color=color_map.get(type_exec, 'black'))\n",
    "\n",
    "plt.axhline(y=1.6, color='r', linestyle='--', label='Peak')\n",
    "plt.xlabel('K (M=N=24)')\n",
    "plt.ylabel('GFLOPS')\n",
    "plt.legend()\n",
    "plt.grid(True)\n",
    "plt.title(\"Increment K SRAM0\")\n",
    "plt.show()\n",
    "calculateSpeedup(data)"
   ]
  },
  {
   "cell_type": "code",
   "execution_count": 18,
   "id": "602439d5",
   "metadata": {},
   "outputs": [
    {
     "name": "stderr",
     "output_type": "stream",
     "text": [
      "/var/folders/c0/3zmp_qkd1q96kl5cw3f5lyt80000gn/T/ipykernel_31022/3482622744.py:26: UserWarning: FigureCanvasPgf is non-interactive, and thus cannot be shown\n",
      "  plt.show()\n"
     ]
    },
    {
     "name": "stdout",
     "output_type": "stream",
     "text": [
      "Speedup Statistics (TillJIT-04.06. over ARM-CMSIS-DSP):\n",
      "Average Speedup: 1.63x\n",
      "Median Speedup: 1.62x\n",
      "Maximum Speedup: 2.34x\n",
      "Minimum Speedup: 1.24x\n"
     ]
    }
   ],
   "source": [
    "plt.clf()\n",
    "fig, ax = plt.subplots()\n",
    "data = pd.read_csv('gemm_square_all.csv', sep=\";\")\n",
    "data\n",
    "#plt.figure(figsize=(10, 6))\n",
    "for type_exec in data['Type'].unique():\n",
    "    subset = data[data['Type'] == type_exec]\n",
    "    if type_exec == \"Intrinsics\":\n",
    "        ax.plot(subset['M'], subset['GFLOPS'], label=type_exec, color=color_map.get(type_exec, 'black'), linestyle='-.', marker='^')\n",
    "    else:\n",
    "        ax.plot(subset['M'], subset['GFLOPS'], label=type_exec, color=color_map.get(type_exec, 'black'))\n",
    "\n",
    "#ax.xaxis.set_major_locator(AutoLocator())\n",
    "ax.set_xticks([i for i in range(0, 241, 24)])\n",
    "ax.xaxis.set_minor_locator(AutoMinorLocator(n=3)) # 0, 8, 16, 24 ...\n",
    "ax.yaxis.set_minor_locator(AutoMinorLocator(n=2)) # 0, 0.1, 0.2 ...\n",
    "ax.tick_params(axis='x', which='minor', length=2, direction='out')\n",
    "ax.tick_params(axis='y', which='minor', length=2, direction='out')\n",
    "ax.axhline(y=1.6, color='r', linestyle='--', label='Peak')\n",
    "ax.set_xlabel('Size (M=N=K)')\n",
    "ax.set_ylabel('GFLOPS')\n",
    "#plt.legend(loc='lower right')\n",
    "ax.legend()\n",
    "ax.grid(True)\n",
    "ax.set_title(\"Square\")\n",
    "plt.show()\n",
    "plt.savefig(\"square.pgf\", format='pgf', backend='pgf')\n",
    "calculateSpeedup(data)"
   ]
  },
  {
   "cell_type": "code",
   "execution_count": 19,
   "id": "fe525b92",
   "metadata": {},
   "outputs": [
    {
     "name": "stdout",
     "output_type": "stream",
     "text": [
      "Speedup Statistics (TillJIT-04.06. over ARM-CMSIS-DSP):\n",
      "Average Speedup: 1.65x\n",
      "Median Speedup: 1.63x\n",
      "Maximum Speedup: 2.34x\n",
      "Minimum Speedup: 1.24x\n"
     ]
    },
    {
     "name": "stderr",
     "output_type": "stream",
     "text": [
      "/var/folders/c0/3zmp_qkd1q96kl5cw3f5lyt80000gn/T/ipykernel_31022/2077378096.py:17: UserWarning: FigureCanvasPgf is non-interactive, and thus cannot be shown\n",
      "  plt.show()\n"
     ]
    }
   ],
   "source": [
    "data = pd.read_csv('gemm_square_he.csv', sep=\";\")\n",
    "data\n",
    "#plt.figure(figsize=(10, 6))\n",
    "for type_exec in data['Type'].unique():\n",
    "    subset = data[data['Type'] == type_exec]\n",
    "    if type_exec == \"Intrinsics\":\n",
    "        plt.plot(subset['M'], subset['GFLOPS'], label=type_exec, color=color_map.get(type_exec, 'black'), linestyle='-.', marker='^')\n",
    "    else:\n",
    "        plt.plot(subset['M'], subset['GFLOPS'], label=type_exec, color=color_map.get(type_exec, 'black'))\n",
    "\n",
    "plt.axhline(y=0.64, color='r', linestyle='--', label='Peak')\n",
    "plt.xlabel('Size (M=N=K)')\n",
    "plt.ylabel('GFLOPS')\n",
    "plt.legend(loc='lower right')\n",
    "plt.grid(True)\n",
    "plt.title(\"Square HE Core\")\n",
    "plt.show()\n",
    "calculateSpeedup(data)"
   ]
  },
  {
   "cell_type": "code",
   "execution_count": 20,
   "id": "070d1f63",
   "metadata": {},
   "outputs": [
    {
     "name": "stdout",
     "output_type": "stream",
     "text": [
      "Speedup Statistics (TillJIT-04.06. over ARM-CMSIS-DSP):\n",
      "Average Speedup: 1.22x\n",
      "Median Speedup: 1.11x\n",
      "Maximum Speedup: 2.33x\n",
      "Minimum Speedup: 0.95x\n"
     ]
    },
    {
     "name": "stderr",
     "output_type": "stream",
     "text": [
      "/var/folders/c0/3zmp_qkd1q96kl5cw3f5lyt80000gn/T/ipykernel_31022/567419430.py:14: UserWarning: FigureCanvasPgf is non-interactive, and thus cannot be shown\n",
      "  plt.show()\n"
     ]
    }
   ],
   "source": [
    "data = pd.read_csv('gemm_square_sram0.csv', sep=\";\")\n",
    "data\n",
    "#plt.figure(figsize=(10, 6))\n",
    "for type_exec in data['Type'].unique():\n",
    "    subset = data[data['Type'] == type_exec]\n",
    "    plt.plot(subset['M'], subset['GFLOPS'], label=type_exec, color=color_map.get(type_exec, 'black'))\n",
    "\n",
    "plt.axhline(y=1.6, color='r', linestyle='--', label='Peak')\n",
    "plt.xlabel('Size (M=N=K)')\n",
    "plt.ylabel('GFLOPS')\n",
    "plt.legend(loc='upper right')\n",
    "plt.grid(True)\n",
    "plt.title(\"Square SRAM0\")\n",
    "plt.show()\n",
    "calculateSpeedup(data)"
   ]
  },
  {
   "cell_type": "code",
   "execution_count": 21,
   "id": "a86e9a7c",
   "metadata": {},
   "outputs": [
    {
     "name": "stdout",
     "output_type": "stream",
     "text": [
      "Speedup Statistics (TillJIT-04.06. over ARM-CMSIS-DSP):\n",
      "Average Speedup: 1.61x\n",
      "Median Speedup: 1.63x\n",
      "Maximum Speedup: 1.66x\n",
      "Minimum Speedup: 1.00x\n"
     ]
    },
    {
     "name": "stderr",
     "output_type": "stream",
     "text": [
      "/var/folders/c0/3zmp_qkd1q96kl5cw3f5lyt80000gn/T/ipykernel_31022/2833342755.py:17: UserWarning: FigureCanvasPgf is non-interactive, and thus cannot be shown\n",
      "  plt.show()\n"
     ]
    }
   ],
   "source": [
    "data = pd.read_csv('gemm_growing_m.csv', sep=\";\")\n",
    "data\n",
    "#plt.figure(figsize=(10, 6))\n",
    "for type_exec in data['Type'].unique():\n",
    "    subset = data[data['Type'] == type_exec]\n",
    "    if type_exec == \"Intrinsics\":\n",
    "        plt.plot(subset['M'], subset['GFLOPS'], label=type_exec, color=color_map.get(type_exec, 'black'), linestyle='-.', marker='^')\n",
    "    else:\n",
    "        plt.plot(subset['M'], subset['GFLOPS'], label=type_exec, color=color_map.get(type_exec, 'black'))\n",
    "\n",
    "plt.axhline(y=1.6, color='r', linestyle='--', label='Peak')\n",
    "plt.xlabel('M (K=N=24)')\n",
    "plt.ylabel('GFLOPS')\n",
    "plt.legend(loc='lower right')\n",
    "plt.grid(True)\n",
    "plt.title(\"Increment M\")\n",
    "plt.show()\n",
    "calculateSpeedup(data)"
   ]
  },
  {
   "cell_type": "code",
   "execution_count": 22,
   "id": "5805033d",
   "metadata": {},
   "outputs": [
    {
     "name": "stdout",
     "output_type": "stream",
     "text": [
      "Speedup Statistics (TillJIT-04.06. over ARM-CMSIS-DSP):\n",
      "Average Speedup: 1.33x\n",
      "Median Speedup: 1.37x\n",
      "Maximum Speedup: 1.65x\n",
      "Minimum Speedup: 0.86x\n"
     ]
    },
    {
     "name": "stderr",
     "output_type": "stream",
     "text": [
      "/var/folders/c0/3zmp_qkd1q96kl5cw3f5lyt80000gn/T/ipykernel_31022/660587169.py:14: UserWarning: FigureCanvasPgf is non-interactive, and thus cannot be shown\n",
      "  plt.show()\n"
     ]
    }
   ],
   "source": [
    "data = pd.read_csv('gemm_growing_m_sram0.csv', sep=\";\")\n",
    "data\n",
    "#plt.figure(figsize=(10, 6))\n",
    "for type_exec in data['Type'].unique():\n",
    "    subset = data[data['Type'] == type_exec]\n",
    "    plt.plot(subset['M'], subset['GFLOPS'], label=type_exec, color=color_map.get(type_exec, 'black'))\n",
    "\n",
    "plt.axhline(y=1.6, color='r', linestyle='--', label='Peak')\n",
    "plt.xlabel('M (K=N=24)')\n",
    "plt.ylabel('GFLOPS')\n",
    "plt.legend(loc='lower right')\n",
    "plt.grid(True)\n",
    "plt.title(\"Increment M SRAM0\")\n",
    "plt.show()\n",
    "calculateSpeedup(data)"
   ]
  },
  {
   "cell_type": "code",
   "execution_count": 23,
   "id": "e289bbee",
   "metadata": {},
   "outputs": [
    {
     "name": "stdout",
     "output_type": "stream",
     "text": [
      "Speedup Statistics (TillJIT-04.06. over ARM-CMSIS-DSP):\n",
      "Average Speedup: 1.60x\n",
      "Median Speedup: 1.62x\n",
      "Maximum Speedup: 1.66x\n",
      "Minimum Speedup: 0.99x\n"
     ]
    },
    {
     "name": "stderr",
     "output_type": "stream",
     "text": [
      "/var/folders/c0/3zmp_qkd1q96kl5cw3f5lyt80000gn/T/ipykernel_31022/3205391707.py:17: UserWarning: FigureCanvasPgf is non-interactive, and thus cannot be shown\n",
      "  plt.show()\n"
     ]
    }
   ],
   "source": [
    "data = pd.read_csv('gemm_growing_m_he.csv', sep=\";\")\n",
    "data\n",
    "#plt.figure(figsize=(10, 6))\n",
    "for type_exec in data['Type'].unique():\n",
    "    subset = data[data['Type'] == type_exec]\n",
    "    if type_exec == \"Intrinsics\":\n",
    "        plt.plot(subset['M'], subset['GFLOPS'], label=type_exec, color=color_map.get(type_exec, 'black'), linestyle='-.', marker='^')\n",
    "    else:\n",
    "        plt.plot(subset['M'], subset['GFLOPS'], label=type_exec, color=color_map.get(type_exec, 'black'))\n",
    "\n",
    "plt.axhline(y=0.64, color='r', linestyle='--', label='Peak')\n",
    "plt.xlabel('M (K=N=24)')\n",
    "plt.ylabel('GFLOPS')\n",
    "plt.legend(loc='lower right')\n",
    "plt.grid(True)\n",
    "plt.title(\"Increment M HE Core\")\n",
    "plt.show()\n",
    "calculateSpeedup(data)"
   ]
  },
  {
   "cell_type": "code",
   "execution_count": 24,
   "id": "cfab5204",
   "metadata": {},
   "outputs": [
    {
     "name": "stdout",
     "output_type": "stream",
     "text": [
      "Speedup Statistics (TillJIT-04.06. over ARM-CMSIS-DSP):\n",
      "Average Speedup: 1.67x\n",
      "Median Speedup: 1.64x\n",
      "Maximum Speedup: 2.96x\n",
      "Minimum Speedup: 1.61x\n"
     ]
    },
    {
     "name": "stderr",
     "output_type": "stream",
     "text": [
      "/var/folders/c0/3zmp_qkd1q96kl5cw3f5lyt80000gn/T/ipykernel_31022/3178416466.py:17: UserWarning: FigureCanvasPgf is non-interactive, and thus cannot be shown\n",
      "  plt.show()\n"
     ]
    }
   ],
   "source": [
    "data = pd.read_csv('gemm_growing_n.csv', sep=\";\")\n",
    "data\n",
    "#plt.figure(figsize=(10, 6))\n",
    "for type_exec in data['Type'].unique():\n",
    "    subset = data[data['Type'] == type_exec]\n",
    "    if type_exec == \"Intrinsics\":\n",
    "        plt.scatter(subset['N'], subset['GFLOPS'], label=type_exec, color=color_map.get(type_exec, 'black'), marker='+')\n",
    "    else:\n",
    "        plt.plot(subset['N'], subset['GFLOPS'], label=type_exec, color=color_map.get(type_exec, 'black'))\n",
    "\n",
    "plt.axhline(y=1.6, color='r', linestyle='--', label='Peak')\n",
    "plt.xlabel('N (K=M=24)')\n",
    "plt.ylabel('GFLOPS')\n",
    "plt.legend(loc='lower right')\n",
    "plt.grid(True)\n",
    "plt.title(\"Increment N\")\n",
    "plt.show()\n",
    "calculateSpeedup(data)"
   ]
  },
  {
   "cell_type": "code",
   "execution_count": 25,
   "id": "3c86a5ee",
   "metadata": {},
   "outputs": [
    {
     "name": "stdout",
     "output_type": "stream",
     "text": [
      "Speedup Statistics (TillJIT-04.06. over ARM-CMSIS-DSP):\n",
      "Average Speedup: 1.55x\n",
      "Median Speedup: 1.58x\n",
      "Maximum Speedup: 2.94x\n",
      "Minimum Speedup: 1.19x\n"
     ]
    },
    {
     "name": "stderr",
     "output_type": "stream",
     "text": [
      "/var/folders/c0/3zmp_qkd1q96kl5cw3f5lyt80000gn/T/ipykernel_31022/3762387949.py:14: UserWarning: FigureCanvasPgf is non-interactive, and thus cannot be shown\n",
      "  plt.show()\n"
     ]
    }
   ],
   "source": [
    "data = pd.read_csv('gemm_growing_n_sram0.csv', sep=\";\")\n",
    "data\n",
    "#plt.figure(figsize=(10, 6))\n",
    "for type_exec in data['Type'].unique():\n",
    "    subset = data[data['Type'] == type_exec]\n",
    "    plt.plot(subset['N'], subset['GFLOPS'], label=type_exec, color=color_map.get(type_exec, 'black'))\n",
    "\n",
    "plt.axhline(y=1.6, color='r', linestyle='--', label='Peak')\n",
    "plt.xlabel('N (K=M=24)')\n",
    "plt.ylabel('GFLOPS')\n",
    "plt.legend(loc='lower right')\n",
    "plt.grid(True)\n",
    "plt.title(\"Increment N SRAM0\")\n",
    "plt.show()\n",
    "calculateSpeedup(data)"
   ]
  },
  {
   "cell_type": "code",
   "execution_count": 26,
   "id": "e782a57a",
   "metadata": {},
   "outputs": [
    {
     "name": "stdout",
     "output_type": "stream",
     "text": [
      "Speedup Statistics (TillJIT-04.06. over ARM-CMSIS-DSP):\n",
      "Average Speedup: 1.67x\n",
      "Median Speedup: 1.64x\n",
      "Maximum Speedup: 2.96x\n",
      "Minimum Speedup: 1.61x\n"
     ]
    },
    {
     "name": "stderr",
     "output_type": "stream",
     "text": [
      "/var/folders/c0/3zmp_qkd1q96kl5cw3f5lyt80000gn/T/ipykernel_31022/373701993.py:17: UserWarning: FigureCanvasPgf is non-interactive, and thus cannot be shown\n",
      "  plt.show()\n"
     ]
    }
   ],
   "source": [
    "data = pd.read_csv('gemm_growing_n_he.csv', sep=\";\")\n",
    "data\n",
    "#plt.figure(figsize=(10, 6))\n",
    "for type_exec in data['Type'].unique():\n",
    "    subset = data[data['Type'] == type_exec]\n",
    "    if type_exec == \"Intrinsics\":\n",
    "        plt.scatter(subset['N'], subset['GFLOPS'], label=type_exec, color=color_map.get(type_exec, 'black'), marker='+')\n",
    "    else:\n",
    "        plt.plot(subset['N'], subset['GFLOPS'], label=type_exec, color=color_map.get(type_exec, 'black'))\n",
    "\n",
    "plt.axhline(y=0.64, color='r', linestyle='--', label='Peak')\n",
    "plt.xlabel('N (K=M=24)')\n",
    "plt.ylabel('GFLOPS')\n",
    "plt.legend(loc='lower right')\n",
    "plt.grid(True)\n",
    "plt.title(\"Increment N HE Core\")\n",
    "plt.show()\n",
    "calculateSpeedup(data)"
   ]
  },
  {
   "cell_type": "code",
   "execution_count": 27,
   "id": "7b4e1e76",
   "metadata": {},
   "outputs": [
    {
     "name": "stderr",
     "output_type": "stream",
     "text": [
      "/var/folders/c0/3zmp_qkd1q96kl5cw3f5lyt80000gn/T/ipykernel_31022/488933046.py:20: UserWarning: FigureCanvasPgf is non-interactive, and thus cannot be shown\n",
      "  plt.show()\n"
     ]
    }
   ],
   "source": [
    "data = pd.read_csv('ablation.csv', sep=\";\")\n",
    "\n",
    "# Calculate the average GFLOPS for each test type\n",
    "average_gflops = data.groupby('Test')['GFLOPS'].mean()\n",
    "\n",
    "# Create the bar plot\n",
    "#plt.figure(figsize=(6, 6))\n",
    "average_gflops = data.groupby('Test')['GFLOPS'].mean().sort_values(ascending=True)\n",
    "average_gflops.plot(kind='bar', color='lightblue', edgecolor='black')\n",
    "\n",
    "# Add labels and title\n",
    "plt.xlabel('Test Type')\n",
    "plt.ylabel('Average GFLOPS (5 Repeats)')\n",
    "plt.title('Average Performance (24x24x24 GEMM)')\n",
    "plt.grid(axis='y', linestyle='--', alpha=1)\n",
    "plt.axhline(y=1.6, color='g', linestyle='--', label='Peak')\n",
    "plt.axhline(y=0.9, color='r', linestyle='--', label='ARM')\n",
    "plt.legend()\n",
    "# Show the plot\n",
    "plt.show()"
   ]
  },
  {
   "cell_type": "code",
   "execution_count": 28,
   "id": "a67faee5",
   "metadata": {},
   "outputs": [
    {
     "name": "stderr",
     "output_type": "stream",
     "text": [
      "/var/folders/c0/3zmp_qkd1q96kl5cw3f5lyt80000gn/T/ipykernel_31022/2976865030.py:19: UserWarning: FigureCanvasPgf is non-interactive, and thus cannot be shown\n",
      "  plt.show()\n"
     ]
    }
   ],
   "source": [
    "# Load the data\n",
    "data = pd.read_csv('components_exclude.csv', sep=\";\")\n",
    "data['Time'] = data['Time'].abs()\n",
    "# Group by 'Test' and calculate the average time for each component\n",
    "average_time = data.groupby('Test')['Time'].mean().sort_values(ascending=False)\n",
    "\n",
    "# Create a horizontal bar plot\n",
    "plt.figure(figsize=(10, 6))\n",
    "average_time.plot(kind='barh', color='skyblue', edgecolor='black')\n",
    "\n",
    "# Add labels and title\n",
    "plt.xlabel('Average Time (ms)')\n",
    "plt.ylabel('Component')\n",
    "plt.title('Time Taken by Components of the Program')\n",
    "plt.grid(axis='x', linestyle='--', alpha=0.7)\n",
    "\n",
    "# Show the plot\n",
    "plt.tight_layout()\n",
    "plt.show()"
   ]
  },
  {
   "cell_type": "code",
   "execution_count": 29,
   "id": "8bbd8ef6",
   "metadata": {},
   "outputs": [
    {
     "name": "stderr",
     "output_type": "stream",
     "text": [
      "/var/folders/c0/3zmp_qkd1q96kl5cw3f5lyt80000gn/T/ipykernel_31022/1301113868.py:20: UserWarning: FigureCanvasPgf is non-interactive, and thus cannot be shown\n",
      "  plt.show()\n"
     ]
    }
   ],
   "source": [
    "data = pd.read_csv('components_exclude.csv', sep=\";\")\n",
    "\n",
    "# Take the absolute value of the 'Time' column\n",
    "data['Time'] = data['Time'].abs()\n",
    "\n",
    "# Group by 'Test' and calculate the total time for each component\n",
    "total_time = data.groupby('Test')['Time'].sum()\n",
    "\n",
    "# Create the pie chart\n",
    "plt.figure(figsize=(8, 8))\n",
    "total_time.plot(kind='pie', autopct='%1.1f%%', startangle=90, colors=plt.cm.Paired.colors)\n",
    "\n",
    "# Add title\n",
    "plt.title('Proportion of Time Taken by Components')\n",
    "\n",
    "# Equal aspect ratio ensures the pie chart is circular\n",
    "plt.axis('equal')\n",
    "\n",
    "# Show the plot\n",
    "plt.show()"
   ]
  },
  {
   "cell_type": "code",
   "execution_count": 30,
   "id": "a8a3134c",
   "metadata": {},
   "outputs": [
    {
     "name": "stderr",
     "output_type": "stream",
     "text": [
      "/var/folders/c0/3zmp_qkd1q96kl5cw3f5lyt80000gn/T/ipykernel_31022/848735233.py:27: UserWarning: FigureCanvasPgf is non-interactive, and thus cannot be shown\n",
      "  plt.show()\n"
     ]
    }
   ],
   "source": [
    "# Load the data\n",
    "data = pd.read_csv('components_include_additive.csv', sep=\";\")\n",
    "data['Time'] = data['Time'].abs()\n",
    "\n",
    "average_time = data.groupby('Test')['Time'].mean().reset_index()\n",
    "nomicrokernel_time = data[data['Test'] == 'NoMicrokernel']['Time'].mean()\n",
    "aggregated_value = average_time[average_time['Test'].isin(['NoMicrokernel', 'OnlyCLoadStore', 'OnlyAAdd', 'OnlyBLoad', 'OnlyALoad', 'OnlyVFMA'])]['Time'].sum()\n",
    "aggregated_value -= 6 * nomicrokernel_time\n",
    "\n",
    "# Add the aggregated value as a new row using pd.concat\n",
    "aggregated_row = pd.DataFrame({'Test': ['Aggregated Components'], 'Time': [aggregated_value]})\n",
    "aggregated_data = pd.concat([average_time, aggregated_row], ignore_index=True)\n",
    "aggregated_data = aggregated_data.sort_values(by='Time', ascending=False)\n",
    "\n",
    "\n",
    "# Create a horizontal bar plot\n",
    "plt.bar(aggregated_data['Test'], aggregated_data['Time'], color='skyblue', edgecolor='black')\n",
    "\n",
    "# Add labels and title\n",
    "plt.ylabel('Average Time (ms)')\n",
    "plt.xlabel('Component')\n",
    "plt.title('Dauer einzelner Programmteile (8x3 Baseline)')\n",
    "plt.grid(axis='x', linestyle='--', alpha=0.7)\n",
    "plt.xticks(rotation=70, ha='right')\n",
    "\n",
    "# Show the plot\n",
    "plt.show()"
   ]
  },
  {
   "cell_type": "code",
   "execution_count": 31,
   "id": "8a46f051",
   "metadata": {},
   "outputs": [
    {
     "name": "stderr",
     "output_type": "stream",
     "text": [
      "/var/folders/c0/3zmp_qkd1q96kl5cw3f5lyt80000gn/T/ipykernel_31022/3365420908.py:26: UserWarning: FigureCanvasPgf is non-interactive, and thus cannot be shown\n",
      "  plt.show()\n"
     ]
    }
   ],
   "source": [
    "# Load the data\n",
    "data = pd.read_csv('components_include_additive_slow.csv', sep=\";\")\n",
    "data['Time'] = data['Time'].abs()\n",
    "\n",
    "average_time = data.groupby('Test')['Time'].mean().reset_index()\n",
    "nomicrokernel_time = data[data['Test'] == 'NoMicrokernel']['Time'].mean()\n",
    "aggregated_value = average_time[average_time['Test'].isin(['NoMicrokernel', 'OnlyCLoadStore', 'OnlyAAdd', 'OnlyBLoad', 'OnlyALoad', 'OnlyVFMA'])]['Time'].sum()\n",
    "aggregated_value -= 5 * nomicrokernel_time\n",
    "\n",
    "# Add the aggregated value as a new row using pd.concat\n",
    "aggregated_row = pd.DataFrame({'Test': ['Aggregated Components'], 'Time': [aggregated_value]})\n",
    "aggregated_data = pd.concat([average_time, aggregated_row], ignore_index=True)\n",
    "aggregated_data = aggregated_data.sort_values(by='Time', ascending=False)\n",
    "\n",
    "# Create a horizontal bar plot\n",
    "plt.bar(aggregated_data['Test'], aggregated_data['Time'], color='skyblue', edgecolor='black')\n",
    "\n",
    "# Add labels and title\n",
    "plt.ylabel('Average Time (ms)')\n",
    "plt.xlabel('Component')\n",
    "plt.title('Dauer einzelner Programmteile (NoInterleaving 8x3)')\n",
    "plt.grid(axis='x', linestyle='--', alpha=0.7)\n",
    "plt.xticks(rotation=70, ha='right')\n",
    "\n",
    "# Show the plot\n",
    "plt.show()"
   ]
  },
  {
   "cell_type": "code",
   "execution_count": 32,
   "id": "7bf7b9ed",
   "metadata": {},
   "outputs": [
    {
     "name": "stderr",
     "output_type": "stream",
     "text": [
      "/var/folders/c0/3zmp_qkd1q96kl5cw3f5lyt80000gn/T/ipykernel_31022/3029085115.py:20: UserWarning: FigureCanvasPgf is non-interactive, and thus cannot be shown\n",
      "  plt.show()\n"
     ]
    }
   ],
   "source": [
    "data = pd.read_csv('components_include_additive_slow.csv', sep=\";\")\n",
    "\n",
    "# Take the absolute value of the 'Time' column\n",
    "data['Time'] = data['Time'].abs()\n",
    "\n",
    "# Group by 'Test' and calculate the total time for each component\n",
    "total_time = data[data['Test'].isin(['NoMicrokernel', 'OnlyCLoadStore', 'OnlyAAdd', 'OnlyBLoad', 'OnlyALoad', 'OnlyVFMA'])].groupby('Test')['Time'].mean()\n",
    "\n",
    "# Create the pie chart\n",
    "plt.figure(figsize=(8, 8))\n",
    "total_time.plot(kind='pie', autopct='%1.1f%%', startangle=90, colors=plt.cm.Paired.colors)\n",
    "\n",
    "# Add title\n",
    "plt.title('Proportion of Time Taken by Components')\n",
    "\n",
    "# Equal aspect ratio ensures the pie chart is circular\n",
    "plt.axis('equal')\n",
    "\n",
    "# Show the plot\n",
    "plt.show()"
   ]
  },
  {
   "cell_type": "code",
   "execution_count": null,
   "id": "d49cfa40",
   "metadata": {},
   "outputs": [],
   "source": []
  }
 ],
 "metadata": {
  "kernelspec": {
   "display_name": "base",
   "language": "python",
   "name": "python3"
  },
  "language_info": {
   "codemirror_mode": {
    "name": "ipython",
    "version": 3
   },
   "file_extension": ".py",
   "mimetype": "text/x-python",
   "name": "python",
   "nbconvert_exporter": "python",
   "pygments_lexer": "ipython3",
   "version": "3.12.9"
  }
 },
 "nbformat": 4,
 "nbformat_minor": 5
}
