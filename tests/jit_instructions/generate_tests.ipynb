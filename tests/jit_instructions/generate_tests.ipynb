{
 "cells": [
  {
   "cell_type": "code",
   "execution_count": 19,
   "id": "1e101d5d",
   "metadata": {},
   "outputs": [],
   "source": [
    "instructions = \"\"\"\n",
    ".syntax unified\n",
    ".text\n",
    "vctp.32 r3\n",
    "vpst\n",
    "vldrwt.f32 q0, [r0]\n",
    "vldrw.f32 q1, [r1]\n",
    "vmul.f32 q2, q0, q1\n",
    "vstrw.f32 q2, [r2]\n",
    "\"\"\"\n",
    "with open(\"test_output.s\", \"w\") as f:\n",
    "    f.write(instructions)"
   ]
  },
  {
   "cell_type": "code",
   "execution_count": 20,
   "id": "9fe0ccdc",
   "metadata": {},
   "outputs": [
    {
     "name": "stdout",
     "output_type": "stream",
     "text": [
      "\n",
      "test_output.o:     file format elf32-littlearm\n",
      "\n",
      "\n",
      "Disassembly of section .text:\n",
      "\n",
      "00000000 <.text>:\n",
      "   0:\tf023 e801 \tvctp.32\tr3\n",
      "   4:\tfe71 0f4d \tvpst\n",
      "   8:\ted90 1f00 \tvldrwt.u32\tq0, [r0, #0]\n",
      "   c:\ted91 3f00 \tvldrw.u32\tq1, [r1, #0]\n",
      "  10:\tff00 4d52 \tvmul.f32\tq2, q0, q1\n",
      "  14:\ted82 5f00 \tvstrw.32\tq2, [r2, #0]\n"
     ]
    }
   ],
   "source": [
    "!/Applications/ArmGNUToolchain/14.2.rel1/arm-none-eabi/bin/arm-none-eabi-gcc -mcpu=cortex-m55 -march=armv8.1-m.main+mve.fp -mlittle-endian -mfloat-abi=hard -c test_output.s -o test_output.o\n",
    "!/Applications/ArmGNUToolchain/14.2.rel1/arm-none-eabi/bin/arm-none-eabi-objdump -d test_output.o\n",
    "!rm test_output.o\n",
    "!rm test_output.s"
   ]
  },
  {
   "cell_type": "code",
   "execution_count": null,
   "id": "7ab89386",
   "metadata": {},
   "outputs": [],
   "source": []
  }
 ],
 "metadata": {
  "kernelspec": {
   "display_name": "base",
   "language": "python",
   "name": "python3"
  },
  "language_info": {
   "codemirror_mode": {
    "name": "ipython",
    "version": 3
   },
   "file_extension": ".py",
   "mimetype": "text/x-python",
   "name": "python",
   "nbconvert_exporter": "python",
   "pygments_lexer": "ipython3",
   "version": "3.12.9"
  }
 },
 "nbformat": 4,
 "nbformat_minor": 5
}
