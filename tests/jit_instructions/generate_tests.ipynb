{
 "cells": [
  {
   "cell_type": "code",
   "execution_count": 15,
   "id": "1e101d5d",
   "metadata": {},
   "outputs": [],
   "source": [
    "instructions = \"\"\"\n",
    ".syntax unified\n",
    ".text\n",
    "\n",
    "cmp r10, #0x8f000000\n",
    "\n",
    "\"\"\"\n",
    "with open(\"test_output.s\", \"w\") as f:\n",
    "    f.write(instructions)"
   ]
  },
  {
   "cell_type": "code",
   "execution_count": 16,
   "id": "9fe0ccdc",
   "metadata": {},
   "outputs": [
    {
     "name": "stdout",
     "output_type": "stream",
     "text": [
      "\n",
      "test_output.o:     file format elf32-littlearm\n",
      "\n",
      "\n",
      "Disassembly of section .text:\n",
      "\n",
      "00000000 <.text>:\n",
      "   0:\tf1ba 4f0f \tcmp.w\tsl, #2399141888\t@ 0x8f000000\n"
     ]
    }
   ],
   "source": [
    "!/Applications/ArmGNUToolchain/14.2.rel1/arm-none-eabi/bin/arm-none-eabi-gcc -mcpu=cortex-m55 -march=armv8.1-m.main+mve.fp -mlittle-endian -mfloat-abi=hard -c test_output.s -o test_output.o\n",
    "!/Applications/ArmGNUToolchain/14.2.rel1/arm-none-eabi/bin/arm-none-eabi-objdump -d test_output.o\n",
    "!rm test_output.o\n",
    "!rm test_output.s"
   ]
  },
  {
   "cell_type": "code",
   "execution_count": null,
   "id": "7ab89386",
   "metadata": {},
   "outputs": [],
   "source": []
  }
 ],
 "metadata": {
  "kernelspec": {
   "display_name": "base",
   "language": "python",
   "name": "python3"
  },
  "language_info": {
   "codemirror_mode": {
    "name": "ipython",
    "version": 3
   },
   "file_extension": ".py",
   "mimetype": "text/x-python",
   "name": "python",
   "nbconvert_exporter": "python",
   "pygments_lexer": "ipython3",
   "version": "3.12.9"
  }
 },
 "nbformat": 4,
 "nbformat_minor": 5
}
